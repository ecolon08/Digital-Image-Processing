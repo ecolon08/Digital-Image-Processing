{
 "cells": [
  {
   "cell_type": "markdown",
   "metadata": {
    "collapsed": true,
    "pycharm": {
     "name": "#%% md\n"
    }
   },
   "source": [
    "## Digital Image Processing, ECE419\n",
    "\n",
    "Ernesto Colon\n",
    "\n",
    "The Cooper Union Department of Electrical Engineering\n",
    "\n",
    "\n",
    "February 19th, 2021\n",
    "\n",
    "References:\n",
    "- Digital Image Processing Using Matlab [DIPUM] by Gonzalez et al., 3rd ed\n",
    "- Digital Image Processing by Gonzalez et al., 4th ed\n",
    "\n",
    "**The following set of notes and example scripts are part of my independent study sessions and adapted from the references outlined above. My main reference is DIPUM and complemented with online documentation. As I go through the theory and textbook examples, I am translating the code and image processing techniques to Python.**\n",
    "\n",
    "## Image Transformations Notes/Exercises/Sandbox"
   ]
  },
  {
   "cell_type": "code",
   "execution_count": 1,
   "outputs": [],
   "source": [
    "#Importing the libraries\n",
    "import sys\n",
    "sys.path.append('..')\n",
    "\n",
    "import numpy as np\n",
    "import matplotlib.pyplot as plt\n",
    "import ec_img_utils\n",
    "import skimage.util\n",
    "from skimage import io\n",
    "import scipy.fft\n",
    "from skimage import transform"
   ],
   "metadata": {
    "collapsed": false,
    "pycharm": {
     "name": "#%%\n"
    }
   }
  },
  {
   "cell_type": "markdown",
   "source": [
    "#### Brief Notes on Inverse Transformation / Mapping\n",
    "\n",
    "Starting with two spatial coordinate systems called the *input space*, $(w,z)$, and the *output space*, $(x,y)$, we can\n",
    "define a geometric coordinate transformation that maps the input space to the output space:\n",
    "\n",
    "\\begin{equation}\n",
    "(x,y) = T[(w,z)]\n",
    "\\end{equation}\n",
    "\n",
    "where $T[\\cdot]$ is called the *forward transformation* or *forward mapping*. If the forward mapping has an inverse, we\n",
    "can express the output space in terms of the input space points as:\n",
    "\n",
    "\\begin{equation}\n",
    "(w,z) = T^{-1}[(x,y)]\n",
    "\\end{equation}\n",
    "\n",
    "where $T^{-1}[\\cdot]$ is called the *inverse transformation* or *inverse mapping*."
   ],
   "metadata": {
    "collapsed": false,
    "pycharm": {
     "name": "#%% md\n"
    }
   }
  },
  {
   "cell_type": "markdown",
   "source": [
    "#### Affine Transformations\n",
    "\n",
    "An affine transformation is a mapping from one vector space to another, consisting of a linear part that is expressed\n",
    "as a matrix multiplication and an additive part that is an *offset* or *translation*.\n",
    "\n",
    "Following the notation used in DIPUM 3rd edition, an affine transformation can be expressed as:\n",
    "\n",
    "\n",
    "\n",
    "\\begin{bmatrix} x & y \\end{bmatrix}\n",
    "= \\begin{bmatrix} w & z \\end{bmatrix}\n",
    "\\begin{bmatrix}\n",
    "a_{11} & a_{12}\\\\\n",
    "a_{21} & a_{22}\n",
    "\\end{bmatrix} + \\begin{bmatrix} b_1 & b_2 \\end{bmatrix}\n",
    "\n",
    "We can re-write our affine transformation equation using homogeneous coordinates as follows:\n",
    "\n",
    "\\begin{bmatrix} x & y & 1 \\end{bmatrix}\n",
    "= \\begin{bmatrix} w & z & 1 \\end{bmatrix}\n",
    "\\begin{bmatrix}\n",
    "a_{11} & a_{12} & 0\\\\\n",
    "a_{21} & a_{22} & 0\\\\\n",
    "b_1 & b_2 & 1\n",
    "\\end{bmatrix} =  \\begin{bmatrix} w & z & 1 \\end{bmatrix} $\\textbf{T}$\n",
    "\n",
    "\n",
    "where $\\textbf{T}$ is called an *affine matrix* and the third column of $\\textbf{T}$ is always\n",
    "\\begin{bmatrix} 0 & 0 & 1 \\end{bmatrix}$^{t}$"
   ],
   "metadata": {
    "collapsed": false,
    "pycharm": {
     "name": "#%% md\n"
    }
   }
  },
  {
   "cell_type": "markdown",
   "source": [
    "#### Types of Affine Transformations\n",
    "\n",
    "**Identity**\n",
    "\n",
    "$\\textbf{T}$ = \\begin{bmatrix}\n",
    "1 & 0 & 0\\\\\n",
    "0 & 1 & 0\\\\\n",
    "0 & 0 & 1\n",
    "\\end{bmatrix}\n",
    "\n",
    "Corresponding coordinate equations\n",
    "\n",
    "$x = w$\n",
    "\n",
    "$y = z$\n",
    "\n",
    "\n",
    "**Scaling**\n",
    "\n",
    "$\\textbf{T}$ = \\begin{bmatrix}\n",
    "s_x & 0 & 0\\\\\n",
    "0 & s_y & 0\\\\\n",
    "0 & 0 & 1\n",
    "\\end{bmatrix}\n",
    "\n",
    "Corresponding coordinate equations\n",
    "\n",
    "$x = s_xw$\n",
    "\n",
    "$y = s_yz$\n",
    "\n",
    "**Rotation**\n",
    "\n",
    "$\\textbf{T}$ = \\begin{bmatrix}\n",
    "cos\\theta & sin\\theta & 0\\\\\n",
    "-sin\\theta & cos\\theta & 0\\\\\n",
    "0 & 0 & 1\n",
    "\\end{bmatrix}\n",
    "\n",
    "Corresponding coordinate equations\n",
    "\n",
    "$x = w~cos\\theta - z~sin\\theta$\n",
    "\n",
    "$y = w~sin\\theta + z~cos\\theta$\n",
    "\n",
    "**Shear (horizontal)**\n",
    "\n",
    "$\\textbf{T}$ = \\begin{bmatrix}\n",
    "1 & 0 & 0\\\\\n",
    "\\alpha & 1 & 0\\\\\n",
    "0 & 0 & 1\n",
    "\\end{bmatrix}\n",
    "\n",
    "Corresponding coordinate equations\n",
    "\n",
    "$x = w + \\alpha~z$\n",
    "\n",
    "$y = z$\n",
    "\n",
    "**Shear (vertical)**\n",
    "\n",
    "$\\textbf{T}$ = \\begin{bmatrix}\n",
    "1 & \\beta & 0\\\\\n",
    "0 & 1 & 0\\\\\n",
    "0 & 0 & 1\n",
    "\\end{bmatrix}\n",
    "\n",
    "Corresponding coordinate equations\n",
    "\n",
    "$x = w$\n",
    "\n",
    "$y = + \\beta~w + z$\n",
    "\n",
    "**Reflection**\n",
    "\n",
    "$\\textbf{T}$ = \\begin{bmatrix}\n",
    "1 & 0 & 0\\\\\n",
    "0 & -1 & 0\\\\\n",
    "0 & 0 & 1\n",
    "\\end{bmatrix}\n",
    "\n",
    "Corresponding coordinate equations\n",
    "\n",
    "$x = w$\n",
    "\n",
    "$y = -z$\n",
    "\n",
    "\n",
    "**Translation**\n",
    "\n",
    "$\\textbf{T}$ = \\begin{bmatrix}\n",
    "1 & 0 & 0\\\\\n",
    "0 & 1 & 0\\\\\n",
    "\\delta_x & \\delta_y & 1\n",
    "\\end{bmatrix}\n",
    "\n",
    "Corresponding coordinate equations\n",
    "\n",
    "$x = w + \\delta_x$\n",
    "\n",
    "$y = z + \\delta_y$"
   ],
   "metadata": {
    "collapsed": false,
    "pycharm": {
     "name": "#%% md\n"
    }
   }
  },
  {
   "cell_type": "markdown",
   "source": [
    "**Similarity Transformation**\n",
    "\n",
    "An affine transformation that preserves angles between lines and that changes all distances in the same ratio is called\n",
    "a *similarity transformation*. In other words, a similarity transformation preserves shapes.\n",
    "\n",
    "Examples include: rotation, translation, and reflection transformations. Scaling is also a similarity transformation if\n",
    "the horizontal and vertical scale factors are the same.\n",
    "\n",
    "We can express the affine matrix for a similarity transformation as follows:\n",
    "\n",
    "$\\textbf{T}$ = \\begin{bmatrix}\n",
    "s~cos\\theta & s~sin\\theta & 0\\\\\n",
    "-s~sin\\theta & s~cos\\theta & 0\\\\\n",
    "b_1 & b_2 & 1\n",
    "\\end{bmatrix}\n",
    "\n",
    "or\n",
    "\n",
    "$\\textbf{T}$ = \\begin{bmatrix}\n",
    "s~cos\\theta & s~sin\\theta & 0\\\\\n",
    "s~sin\\theta & -s~cos\\theta & 0\\\\\n",
    "b_1 & b_2 & 1\n",
    "\\end{bmatrix}\n",
    "\n",
    "where the second form is needed to account for reflections.\n",
    "\n",
    "Similarity transformations are useful in image processing applications involving solid and flat objects. As objects\n",
    "or the imaging sensor moves, we can relate the motion with similarity transformations."
   ],
   "metadata": {
    "collapsed": false,
    "pycharm": {
     "name": "#%% md\n"
    }
   }
  },
  {
   "cell_type": "markdown",
   "source": [
    "**Example 6.1 from DIPUM - Transforming points with an affine transformation**\n",
    "\n",
    "**NOTE:** Python, or at least skimage, defines the affine matrix as the transpose of DIPUM's affine matrix definition.\n",
    "Going back to the affine transformation equation outlined above, we see that the coordinate points are defined as row\n",
    "vectors in DIPUM whereas scikit-image assumes column vectors."
   ],
   "metadata": {
    "collapsed": false,
    "pycharm": {
     "name": "#%% md\n"
    }
   }
  },
  {
   "cell_type": "code",
   "execution_count": 2,
   "outputs": [
    {
     "name": "stdout",
     "output_type": "stream",
     "text": [
      "[[3. 0. 0.]\n",
      " [0. 2. 0.]\n",
      " [0. 0. 1.]]\n"
     ]
    }
   ],
   "source": [
    "# define affine matrix\n",
    "affine_xfm_1 = np.array([[3., 0., 0.],[0., 2., 0.],[0., 0., 1.]])\n",
    "\n",
    "# create similarity transform object with skimage\n",
    "sim_xfm_1 = skimage.transform.SimilarityTransform(affine_xfm_1)\n",
    "\n",
    "# confirm similarity transformation object has the correct affine matrix\n",
    "print(sim_xfm_1.params)"
   ],
   "metadata": {
    "collapsed": false,
    "pycharm": {
     "name": "#%%\n"
    }
   }
  },
  {
   "cell_type": "code",
   "execution_count": 3,
   "outputs": [
    {
     "name": "stdout",
     "output_type": "stream",
     "text": [
      "Input coords shape:  (2, 2) \n",
      "\n",
      "Transformed output coords: \n",
      " [[3. 2.]\n",
      " [9. 4.]]\n"
     ]
    }
   ],
   "source": [
    "# computing the forward transformation of a pair of points\n",
    "\n",
    "# define input space coordinates (w, z) to transform, the input coords have shape P x 2\n",
    "wz_pair_1 = np.array([[1, 1], [3., 2.]])\n",
    "print(\"Input coords shape: \", wz_pair_1.shape, \"\\n\")\n",
    "\n",
    "# transform the input coords to the output coords\n",
    "xy_pair_1 = skimage.transform.matrix_transform(wz_pair_1, sim_xfm_1.params)\n",
    "\n",
    "# print results\n",
    "print(\"Transformed output coords: \\n\", xy_pair_1)"
   ],
   "metadata": {
    "collapsed": false,
    "pycharm": {
     "name": "#%%\n"
    }
   }
  },
  {
   "cell_type": "code",
   "execution_count": 4,
   "outputs": [
    {
     "name": "stdout",
     "output_type": "stream",
     "text": [
      "Input coords computed using the inverse mapping: \n",
      " [[1. 1.]\n",
      " [3. 2.]]\n"
     ]
    }
   ],
   "source": [
    "# computing output space coordinates using the inverse mapping\n",
    "wz_pair_2 = sim_xfm_1.inverse(xy_pair_1)\n",
    "\n",
    "print(\"Input coords computed using the inverse mapping: \\n\", wz_pair_2)"
   ],
   "metadata": {
    "collapsed": false,
    "pycharm": {
     "name": "#%%\n"
    }
   }
  },
  {
   "cell_type": "code",
   "execution_count": 5,
   "outputs": [
    {
     "name": "stdout",
     "output_type": "stream",
     "text": [
      "Modified affine matrix: \n",
      " [[4. 0. 0.]\n",
      " [0. 2. 0.]\n",
      " [0. 0. 1.]] \n",
      "\n",
      "Transformed output coords: \n",
      " [[ 4.  2.]\n",
      " [12.  4.]]\n"
     ]
    }
   ],
   "source": [
    "# modifying the affine transformation matrix\n",
    "sim_xfm_1.params[0, 0] = 4\n",
    "\n",
    "# confirm that the change took place\n",
    "print(\"Modified affine matrix: \\n\", sim_xfm_1.params, \"\\n\")\n",
    "\n",
    "# apply transformation to our input coords\n",
    "xy_pair_2 = skimage.transform.matrix_transform(wz_pair_1, sim_xfm_1.params)\n",
    "\n",
    "# print results and confirm that our x-scaling took effect\n",
    "print(\"Transformed output coords: \\n\", xy_pair_2)"
   ],
   "metadata": {
    "collapsed": false,
    "pycharm": {
     "name": "#%%\n"
    }
   }
  },
  {
   "cell_type": "markdown",
   "source": [
    "Note how only the horizontal coordinates were scaled by a factor of 4 as expected.\n",
    "\n",
    "The next example shifts the horizontal coordinates as a fraction of the vertical coordinates"
   ],
   "metadata": {
    "collapsed": false,
    "pycharm": {
     "name": "#%% md\n"
    }
   }
  },
  {
   "cell_type": "code",
   "execution_count": 6,
   "outputs": [
    {
     "name": "stdout",
     "output_type": "stream",
     "text": [
      "Similarity transform 2: \n",
      " [[1.  0.4 0. ]\n",
      " [0.  1.  0. ]\n",
      " [0.  0.  1. ]] \n",
      "\n",
      "Transformed output coords: \n",
      " [[1.4 1. ]\n",
      " [3.8 2. ]] \n",
      "\n",
      "Input coords computed using the inverse mapping: \n",
      " [[1. 1.]\n",
      " [3. 2.]]\n"
     ]
    }
   ],
   "source": [
    "# define affine matrix\n",
    "affine_xfm_2 = np.array([[1, 0.4, 0], [0, 1, 0], [0, 0, 1]], dtype=np.float)\n",
    "\n",
    "# define similarity transform object\n",
    "sim_xfm_2 = skimage.transform.SimilarityTransform(matrix=affine_xfm_2)\n",
    "\n",
    "# confirm\n",
    "print(\"Similarity transform 2: \\n\", sim_xfm_2.params, \"\\n\")\n",
    "\n",
    "# apply transformation\n",
    "xy_pair_3 = skimage.transform.matrix_transform(wz_pair_1, sim_xfm_2.params)\n",
    "\n",
    "print(\"Transformed output coords: \\n\", xy_pair_3, \"\\n\")\n",
    "\n",
    "# going back with the inverse mapping\n",
    "wz_pair_3 = sim_xfm_2.inverse(xy_pair_3)\n",
    "\n",
    "print(\"Input coords computed using the inverse mapping: \\n\", wz_pair_3)"
   ],
   "metadata": {
    "collapsed": false,
    "pycharm": {
     "name": "#%%\n"
    }
   }
  },
  {
   "cell_type": "markdown",
   "source": [
    "Note from the example above that only the horizontal coordinates where changed by the tranform.\n"
   ],
   "metadata": {
    "collapsed": false,
    "pycharm": {
     "name": "#%% md\n"
    }
   }
  },
  {
   "cell_type": "code",
   "execution_count": 7,
   "outputs": [],
   "source": [
    "from skimage import data"
   ],
   "metadata": {
    "collapsed": false,
    "pycharm": {
     "name": "#%%\n"
    }
   }
  },
  {
   "cell_type": "code",
   "execution_count": 9,
   "outputs": [
    {
     "name": "stdout",
     "output_type": "stream",
     "text": [
      "[[  0.96592583  -0.25881905 100.        ]\n",
      " [  0.25881905   0.96592583 -20.        ]\n",
      " [  0.           0.           1.        ]]\n"
     ]
    }
   ],
   "source": [
    "tform = transform.EuclideanTransform(rotation=np.pi / 12.,\n",
    "                                     translation= (100, -20))\n",
    "print(tform.params)"
   ],
   "metadata": {
    "collapsed": false,
    "pycharm": {
     "name": "#%%\n"
    }
   }
  },
  {
   "cell_type": "markdown",
   "source": [
    "#### Projective Transformations (Homography)\n",
    "\n",
    "A homography or projective transformation preserves lines but not necessarily parallelism. Projective transformations\n",
    "are useful for reversing perspective distortion in an image. We define a projective transformation using a third auxiliary\n",
    "coordinate, similar to the affine transformations. The auxiliary coordinate, however, is not a constant.\n",
    "\n",
    "\n",
    "\\begin{bmatrix} x' & y' & h \\end{bmatrix}\n",
    "= \\begin{bmatrix} w & z & 1 \\end{bmatrix}\n",
    "\\begin{bmatrix}\n",
    "\\alpha_{11} & \\alpha_{12} & \\alpha_{13}\\\\\n",
    "\\alpha_{21} & \\alpha_{22} & \\alpha_{23}\\\\\n",
    "b_1 & b_2 & 1\n",
    "\\end{bmatrix}\n",
    "\n",
    "were $\\alpha_{13}$ and $\\alpha_{23}$ are nonzero, and where $x' = hx$ and $y' = hy$.\n",
    "\n",
    "**Creating a projective transformation with skimage**"
   ],
   "metadata": {
    "collapsed": false,
    "pycharm": {
     "name": "#%% md\n"
    }
   }
  },
  {
   "cell_type": "code",
   "execution_count": 19,
   "outputs": [
    {
     "name": "stdout",
     "output_type": "stream",
     "text": [
      "Transformed output coords: \n",
      " [[-1.5        -0.5       ]\n",
      " [ 1.5        -1.5       ]\n",
      " [ 1.9         1.3       ]\n",
      " [-2.83333333  4.83333333]] \n",
      "\n"
     ]
    }
   ],
   "source": [
    "# define transformation matrix\n",
    "#proj_mat_1 = np.array([[1.8, -0.8, 0.2], [-0.1, 1.7, -0.2], [0.2, 0.4, 1.0]])\n",
    "proj_mat_1 = np.array([[1.8, -0.8, 0.2], [-0.1, 1.7, -0.2], [0.2, 0.4, 1.0]]).T\n",
    "\n",
    "# create projective trasnformation object\n",
    "proj_xfm_1 = transform.ProjectiveTransform(matrix=proj_mat_1)\n",
    "\n",
    "# input coordinate points\n",
    "wz_pair_4 = np.array([[-1, -1], [1, -1], [1, 1], [-1, 1]])\n",
    "#print(wz_pair_4)\n",
    "\n",
    "# transform coordinate points\n",
    "xy_pair_4 = transform.matrix_transform(wz_pair_4, proj_xfm_1.params)\n",
    "\n",
    "# print transformed coordinate points\n",
    "print(\"Transformed output coords: \\n\", xy_pair_4, \"\\n\")"
   ],
   "metadata": {
    "collapsed": false,
    "pycharm": {
     "name": "#%%\n"
    }
   }
  },
  {
   "cell_type": "markdown",
   "source": [
    "#### Transforming Images\n",
    "\n"
   ],
   "metadata": {
    "collapsed": false,
    "pycharm": {
     "name": "#%% md\n",
     "is_executing": true
    }
   }
  }
 ],
 "metadata": {
  "kernelspec": {
   "name": "pycharm-496175e7",
   "language": "python",
   "display_name": "PyCharm (Digital-Image-Processing)"
  },
  "language_info": {
   "codemirror_mode": {
    "name": "ipython",
    "version": 2
   },
   "file_extension": ".py",
   "mimetype": "text/x-python",
   "name": "python",
   "nbconvert_exporter": "python",
   "pygments_lexer": "ipython2",
   "version": "2.7.6"
  }
 },
 "nbformat": 4,
 "nbformat_minor": 0
}