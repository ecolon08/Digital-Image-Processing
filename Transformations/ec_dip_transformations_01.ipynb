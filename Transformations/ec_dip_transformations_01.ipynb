{
 "cells": [
  {
   "cell_type": "markdown",
   "metadata": {
    "collapsed": true,
    "pycharm": {
     "name": "#%% md\n"
    }
   },
   "source": [
    "## Digital Image Processing, ECE419\n",
    "\n",
    "Ernesto Colon\n",
    "\n",
    "The Cooper Union Department of Electrical Engineering\n",
    "\n",
    "\n",
    "February 19th, 2021\n",
    "\n",
    "References:\n",
    "- Digital Image Processing Using Matlab [DIPUM] by Gonzalez et al., 3rd ed\n",
    "- Digital Image Processing by Gonzalez et al., 4th ed\n",
    "\n",
    "**The following set of notes and example scripts are part of my independent study sessions and adapted from the references outlined above. My main reference is DIPUM and complemented with online documentation. As I go through the theory and textbook examples, I am translating the code and image processing techniques to Python.**\n",
    "\n",
    "## Image Transformations Notes/Exercises/Sandbox"
   ]
  },
  {
   "cell_type": "code",
   "execution_count": 1,
   "outputs": [],
   "source": [
    "#Importing the libraries\n",
    "import sys\n",
    "sys.path.append('..')\n",
    "\n",
    "import numpy as np\n",
    "import matplotlib.pyplot as plt\n",
    "import ec_img_utils\n",
    "import skimage.util\n",
    "from skimage import io\n",
    "import scipy.fft\n",
    "from skimage import transform"
   ],
   "metadata": {
    "collapsed": false,
    "pycharm": {
     "name": "#%%\n"
    }
   }
  },
  {
   "cell_type": "markdown",
   "source": [
    "#### Brief Notes on Inverse Transformation / Mapping\n",
    "\n",
    "Starting with two spatial coordinate systems called the *input space*, $(w,z)$, and the *output space*, $(x,y)$, we can\n",
    "define a geometric coordinate transformation that maps the input space to the output space:\n",
    "\n",
    "\\begin{equation}\n",
    "(x,y) = T[(w,z)]\n",
    "\\end{equation}\n",
    "\n",
    "where $T[\\cdot]$ is called the *forward transformation* or *forward mapping*. If the forward mapping has an inverse, we\n",
    "can express the output space in terms of the input space points as:\n",
    "\n",
    "\\begin{equation}\n",
    "(w,z) = T^{-1}[(x,y)]\n",
    "\\end{equation}\n",
    "\n",
    "where $T^{-1}[\\cdot]$ is called the *inverse transformation* or *inverse mapping*."
   ],
   "metadata": {
    "collapsed": false,
    "pycharm": {
     "name": "#%% md\n"
    }
   }
  },
  {
   "cell_type": "markdown",
   "source": [
    "#### Affine Transformations\n",
    "\n",
    "An affine transformation is a mapping from one vector space to another, consisting of a linear part that is expressed\n",
    "as a matrix multiplication and an additive part that is an *offset* or *translation*.\n",
    "\n",
    "Following the notation used in DIPUM 3rd edition, an affine transformation can be expressed as:\n",
    "\n",
    "\n",
    "\n",
    "\\begin{bmatrix} x & y \\end{bmatrix}\n",
    "= \\begin{bmatrix} w & z \\end{bmatrix}\n",
    "\\begin{bmatrix}\n",
    "a_{11} & a_{12}\\\\\n",
    "a_{21} & a_{22}\n",
    "\\end{bmatrix} + \\begin{bmatrix} b_1 & b_2 \\end{bmatrix}\n",
    "\n",
    "We can re-write our affine transformation equation using homogeneous coordinates as follows:\n",
    "\n",
    "\\begin{bmatrix} x & y & 1 \\end{bmatrix}\n",
    "= \\begin{bmatrix} w & z & 1 \\end{bmatrix}\n",
    "\\begin{bmatrix}\n",
    "a_{11} & a_{12} & 0\\\\\n",
    "a_{21} & a_{22} & 0\\\\\n",
    "b_1 & b_2 & 1\n",
    "\\end{bmatrix} =  \\begin{bmatrix} w & z & 1 \\end{bmatrix} $\\textbf{T}$\n",
    "\n",
    "\n",
    "where $\\textbf{T}$ is called an *affine matrix* and the third column of $\\textbf{T}$ is always\n",
    "\\begin{bmatrix} 0 & 0 & 1 \\end{bmatrix}$^{t}$"
   ],
   "metadata": {
    "collapsed": false,
    "pycharm": {
     "name": "#%% md\n"
    }
   }
  },
  {
   "cell_type": "markdown",
   "source": [
    "#### Types of Affine Transformations\n",
    "\n",
    "**Identity**\n",
    "\n",
    "$\\textbf{T}$ = \\begin{bmatrix}\n",
    "1 & 0 & 0\\\\\n",
    "0 & 1 & 0\\\\\n",
    "0 & 0 & 1\n",
    "\\end{bmatrix}\n",
    "\n",
    "Corresponding coordinate equations\n",
    "\n",
    "$x = w$\n",
    "\n",
    "$y = z$\n",
    "\n",
    "\n",
    "**Scaling**\n",
    "\n",
    "$\\textbf{T}$ = \\begin{bmatrix}\n",
    "s_x & 0 & 0\\\\\n",
    "0 & s_y & 0\\\\\n",
    "0 & 0 & 1\n",
    "\\end{bmatrix}\n",
    "\n",
    "Corresponding coordinate equations\n",
    "\n",
    "$x = s_xw$\n",
    "\n",
    "$y = s_yz$\n",
    "\n",
    "**Rotation**\n",
    "\n",
    "$\\textbf{T}$ = \\begin{bmatrix}\n",
    "cos\\theta & sin\\theta & 0\\\\\n",
    "-sin\\theta & cos\\theta & 0\\\\\n",
    "0 & 0 & 1\n",
    "\\end{bmatrix}\n",
    "\n",
    "Corresponding coordinate equations\n",
    "\n",
    "$x = w~cos\\theta - z~sin\\theta$\n",
    "\n",
    "$y = w~sin\\theta + z~cos\\theta$\n",
    "\n",
    "**Shear (horizontal)**\n",
    "\n",
    "$\\textbf{T}$ = \\begin{bmatrix}\n",
    "1 & 0 & 0\\\\\n",
    "\\alpha & 1 & 0\\\\\n",
    "0 & 0 & 1\n",
    "\\end{bmatrix}\n",
    "\n",
    "Corresponding coordinate equations\n",
    "\n",
    "$x = w + \\alpha~z$\n",
    "\n",
    "$y = z$\n",
    "\n",
    "**Shear (vertical)**\n",
    "\n",
    "$\\textbf{T}$ = \\begin{bmatrix}\n",
    "1 & \\beta & 0\\\\\n",
    "0 & 1 & 0\\\\\n",
    "0 & 0 & 1\n",
    "\\end{bmatrix}\n",
    "\n",
    "Corresponding coordinate equations\n",
    "\n",
    "$x = w$\n",
    "\n",
    "$y = + \\beta~w + z$\n",
    "\n",
    "**Reflection**\n",
    "\n",
    "$\\textbf{T}$ = \\begin{bmatrix}\n",
    "1 & 0 & 0\\\\\n",
    "0 & -1 & 0\\\\\n",
    "0 & 0 & 1\n",
    "\\end{bmatrix}\n",
    "\n",
    "Corresponding coordinate equations\n",
    "\n",
    "$x = w$\n",
    "\n",
    "$y = -z$\n",
    "\n",
    "\n",
    "**Translation**\n",
    "\n",
    "$\\textbf{T}$ = \\begin{bmatrix}\n",
    "1 & 0 & 0\\\\\n",
    "0 & 1 & 0\\\\\n",
    "\\delta_x & \\delta_y & 1\n",
    "\\end{bmatrix}\n",
    "\n",
    "Corresponding coordinate equations\n",
    "\n",
    "$x = w + \\delta_x$\n",
    "\n",
    "$y = z + \\delta_y$"
   ],
   "metadata": {
    "collapsed": false,
    "pycharm": {
     "name": "#%% md\n"
    }
   }
  },
  {
   "cell_type": "markdown",
   "source": [
    "**Similarity Transformation**\n",
    "\n",
    "An affine transformation that preserves angles between lines and that changes all distances in the same ratio is called\n",
    "a *similarity transformation*. In other words, a similarity transformation preserves shapes.\n",
    "\n",
    "Examples include: rotation, translation, and reflection transformations. Scaling is also a similarity transformation if\n",
    "the horizontal and vertical scale factors are the same.\n",
    "\n",
    "We can express the affine matrix for a similarity transformation as follows:\n",
    "\n",
    "$\\textbf{T}$ = \\begin{bmatrix}\n",
    "s~cos\\theta & s~sin\\theta & 0\\\\\n",
    "-s~sin\\theta & s~cos\\theta & 0\\\\\n",
    "b_1 & b_2 & 1\n",
    "\\end{bmatrix}\n",
    "\n",
    "or\n",
    "\n",
    "$\\textbf{T}$ = \\begin{bmatrix}\n",
    "s~cos\\theta & s~sin\\theta & 0\\\\\n",
    "s~sin\\theta & -s~cos\\theta & 0\\\\\n",
    "b_1 & b_2 & 1\n",
    "\\end{bmatrix}\n",
    "\n",
    "where the second form is needed to account for reflections.\n",
    "\n",
    "Similarity transformations are useful in image processing applications involving solid and flat objects. As objects\n",
    "or the imaging sensor moves, we can relate the motion with similarity transformations."
   ],
   "metadata": {
    "collapsed": false,
    "pycharm": {
     "name": "#%% md\n"
    }
   }
  },
  {
   "cell_type": "code",
   "execution_count": null,
   "outputs": [],
   "source": [],
   "metadata": {
    "collapsed": false,
    "pycharm": {
     "name": "#%%"
    }
   }
  }
 ],
 "metadata": {
  "kernelspec": {
   "name": "pycharm-496175e7",
   "language": "python",
   "display_name": "PyCharm (Digital-Image-Processing)"
  },
  "language_info": {
   "codemirror_mode": {
    "name": "ipython",
    "version": 2
   },
   "file_extension": ".py",
   "mimetype": "text/x-python",
   "name": "python",
   "nbconvert_exporter": "python",
   "pygments_lexer": "ipython2",
   "version": "2.7.6"
  }
 },
 "nbformat": 4,
 "nbformat_minor": 0
}